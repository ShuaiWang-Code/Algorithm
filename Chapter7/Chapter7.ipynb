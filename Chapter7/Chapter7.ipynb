{
 "cells": [
  {
   "cell_type": "code",
   "execution_count": 1,
   "metadata": {},
   "outputs": [
    {
     "name": "stdout",
     "output_type": "stream",
     "text": [
      "Cost from the start to each node:\n",
      "{'a': 5, 'b': 2, 'fin': 6}\n"
     ]
    }
   ],
   "source": [
    "graph = {}\n",
    "graph[\"start\"] = {}\n",
    "graph[\"start\"][\"a\"] = 6\n",
    "graph[\"start\"][\"b\"] = 2\n",
    "\n",
    "graph[\"a\"] = {}\n",
    "graph[\"a\"][\"fin\"] = 1\n",
    "\n",
    "graph[\"b\"] = {}\n",
    "graph[\"b\"][\"a\"] = 3\n",
    "graph[\"b\"][\"fin\"] = 5\n",
    "\n",
    "graph[\"fin\"] = {}  # 终点没有邻居\n",
    "\n",
    "# 存储每个节点开销的散列表\n",
    "infinity = float(\"inf\")\n",
    "costs = {}\n",
    "costs[\"a\"] = 6\n",
    "costs[\"b\"] = 2\n",
    "costs[\"fin\"] = infinity\n",
    "\n",
    "# 存储父节点的散列表\n",
    "parents = {}\n",
    "parents[\"a\"] = \"start\"\n",
    "parents[\"b\"] = \"start\"\n",
    "parents[\"fin\"] = None\n",
    "\n",
    "processed = []  # 一个数组，用于记录处理过的节点。因为对于同一个节点，不用处理多次。\n",
    "\n",
    "def find_lowest_cost_node(costs):\n",
    "    lowest_cost = float(\"inf\")\n",
    "    lowest_cost_node = None\n",
    "    # 遍历所有的节点\n",
    "    for node in costs:\n",
    "        cost = costs[node]\n",
    "        # 如果当前节点的开销更低且未处理过\n",
    "        if cost < lowest_cost and node not in processed:\n",
    "            # 就将其视为开销最低的节点\n",
    "            lowest_cost = cost\n",
    "            lowest_cost_node = node\n",
    "    return lowest_cost_node\n",
    "\n",
    "# 在未处理的节点中找出开销最小的节点\n",
    "node = find_lowest_cost_node(costs)\n",
    "# 这个while循环在所有节点都被处理过后结束\n",
    "while node is not None:\n",
    "    cost = costs[node]\n",
    "    # 遍历当前节点的所有邻居\n",
    "    neighbors = graph[node]\n",
    "    for n in neighbors.keys():\n",
    "        new_cost = cost + neighbors[n]\n",
    "        # 如果经当前节点前往该邻居更近\n",
    "        if costs[n] > new_cost:\n",
    "            # 就更新该邻居的开销\n",
    "            costs[n] = new_cost\n",
    "            # 同时将该邻居的父节点设置为当前节点\n",
    "            parents[n] = node\n",
    "    # 将当前节点标记为处理过\n",
    "    processed.append(node)\n",
    "    # 找出接下来要处理的节点，并做循环\n",
    "    node = find_lowest_cost_node(costs)\n",
    "\n",
    "print (\"Cost from the start to each node:\")\n",
    "print (costs)"
   ]
  },
  {
   "cell_type": "code",
   "execution_count": null,
   "metadata": {},
   "outputs": [],
   "source": []
  }
 ],
 "metadata": {
  "kernelspec": {
   "display_name": "Python [conda env:py3]",
   "language": "python",
   "name": "conda-env-py3-py"
  },
  "language_info": {
   "codemirror_mode": {
    "name": "ipython",
    "version": 3
   },
   "file_extension": ".py",
   "mimetype": "text/x-python",
   "name": "python",
   "nbconvert_exporter": "python",
   "pygments_lexer": "ipython3",
   "version": "3.7.3"
  }
 },
 "nbformat": 4,
 "nbformat_minor": 2
}
