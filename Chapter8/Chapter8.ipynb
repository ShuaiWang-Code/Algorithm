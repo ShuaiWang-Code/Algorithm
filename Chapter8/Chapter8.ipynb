{
 "cells": [
  {
   "cell_type": "markdown",
   "metadata": {},
   "source": [
    "集合不能出现重复的元素"
   ]
  },
  {
   "cell_type": "code",
   "execution_count": 1,
   "metadata": {},
   "outputs": [
    {
     "data": {
      "text/plain": [
       "{1, 2, 3, 4}"
      ]
     },
     "execution_count": 1,
     "metadata": {},
     "output_type": "execute_result"
    }
   ],
   "source": [
    "arr = [1,1,2,3,4,4]\n",
    "set(arr)"
   ]
  },
  {
   "cell_type": "markdown",
   "metadata": {},
   "source": [
    "可供选择的广播清单，用散列表来表示它：其中，键为电台名字，值为覆盖的州。"
   ]
  },
  {
   "cell_type": "code",
   "execution_count": 2,
   "metadata": {},
   "outputs": [],
   "source": [
    "stations = {}\n",
    "stations[\"kone\"] = set([\"id\", \"nv\", \"ut\"])\n",
    "stations[\"ktwo\"] = set([\"wa\", \"id\", \"mt\"])\n",
    "stations[\"kthree\"] = set([\"or\", \"nv\", \"ca\"])\n",
    "stations[\"kfour\"] = set([\"nv\", \"ut\"])\n",
    "stations[\"kfive\"] = set([\"ca\", \"az\"])"
   ]
  },
  {
   "cell_type": "markdown",
   "metadata": {},
   "source": [
    "包含要覆盖的州：states_needed\n",
    "用一个集合来保存最终选择的电台：final_stations = set() "
   ]
  },
  {
   "cell_type": "code",
   "execution_count": 12,
   "metadata": {},
   "outputs": [],
   "source": [
    "states_needed=set([\"mt\",\"wa\",\"or\",\"id\",\"nv\",\"ut\",\"ca\",\"az\"])\n",
    "final_stations = set()"
   ]
  },
  {
   "cell_type": "markdown",
   "metadata": {},
   "source": [
    "需要从中选择覆盖了最多的未覆盖州的广播台。将整个广播台存储在best_station 中。 "
   ]
  },
  {
   "cell_type": "code",
   "execution_count": 14,
   "metadata": {},
   "outputs": [
    {
     "name": "stdout",
     "output_type": "stream",
     "text": [
      "{'kfive', 'ktwo', 'kthree', 'kone'}\n"
     ]
    }
   ],
   "source": [
    "while states_needed:#循环直至所需要覆盖的州为空\n",
    "    best_station = set()#覆盖最多州的广播台\n",
    "    states_covered = set()#该广播台覆盖的所有未覆盖的州\n",
    "    for station, states_for_station in stations.items():#循环所有（键值）广播站station以及 站对应的覆盖州states_for_station\n",
    "        covered = states_needed & states_for_station# &取交集\n",
    "        \n",
    "        if len(covered) > len(states_covered): \n",
    "            best_station = station\n",
    "            states_covered  = covered\n",
    "            \n",
    "    states_needed -= states_covered\n",
    "    final_stations.add(best_station)\n",
    "\n",
    "print(final_stations)"
   ]
  },
  {
   "cell_type": "code",
   "execution_count": null,
   "metadata": {},
   "outputs": [],
   "source": []
  }
 ],
 "metadata": {
  "kernelspec": {
   "display_name": "Python [conda env:py3]",
   "language": "python",
   "name": "conda-env-py3-py"
  },
  "language_info": {
   "codemirror_mode": {
    "name": "ipython",
    "version": 3
   },
   "file_extension": ".py",
   "mimetype": "text/x-python",
   "name": "python",
   "nbconvert_exporter": "python",
   "pygments_lexer": "ipython3",
   "version": "3.7.3"
  }
 },
 "nbformat": 4,
 "nbformat_minor": 2
}
