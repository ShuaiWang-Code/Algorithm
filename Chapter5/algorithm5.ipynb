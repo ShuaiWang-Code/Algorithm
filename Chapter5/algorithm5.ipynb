{
 "cells": [
  {
   "cell_type": "code",
   "execution_count": 1,
   "metadata": {},
   "outputs": [
    {
     "name": "stdout",
     "output_type": "stream",
     "text": [
      "{'apple': 0.67, 'milk': 1.49, 'avocado': 1.6}\n"
     ]
    }
   ],
   "source": [
    "book  = dict()\n",
    "book[\"apple\"] = 0.67\n",
    "book[\"milk\"] = 1.49\n",
    "book[\"avocado\"] = 1.60\n",
    "\n",
    "print(book)"
   ]
  },
  {
   "cell_type": "code",
   "execution_count": 2,
   "metadata": {},
   "outputs": [
    {
     "name": "stdout",
     "output_type": "stream",
     "text": [
      "1.49\n"
     ]
    }
   ],
   "source": [
    "print(book[\"milk\"])"
   ]
  },
  {
   "cell_type": "code",
   "execution_count": 3,
   "metadata": {},
   "outputs": [
    {
     "name": "stdout",
     "output_type": "stream",
     "text": [
      "13053205320\n"
     ]
    }
   ],
   "source": [
    "phone_book = dict()\n",
    "phone_book[\"wang\"] = 13053205320\n",
    "phone_book[\"shuai\"] = 13956785678\n",
    "\n",
    "print(phone_book[\"wang\"])"
   ]
  },
  {
   "cell_type": "code",
   "execution_count": 4,
   "metadata": {},
   "outputs": [
    {
     "name": "stdout",
     "output_type": "stream",
     "text": [
      "let them vote!\n",
      "let them vote!\n",
      "kick them out!\n"
     ]
    }
   ],
   "source": [
    "voted = dict()\n",
    "def checkname(name):\n",
    "    if voted.get(name):\n",
    "        print(\"kick them out!\")\n",
    "    else:\n",
    "        voted[name] = True\n",
    "        print(\"let them vote!\")\n",
    "\n",
    "checkname(\"wang\")\n",
    "checkname(\"shuai\")\n",
    "checkname(\"wang\")"
   ]
  },
  {
   "cell_type": "code",
   "execution_count": 6,
   "metadata": {},
   "outputs": [],
   "source": [
    "cache = {}\n",
    "\n",
    "def get_page(url): \n",
    "    if cache.get(url):\n",
    "        return cache[url] # 返回缓存的数据\n",
    "    else:\n",
    "        data = get_data_from_server(url)\n",
    "        cache[url] = data # 先将数据保存到缓存中\n",
    "        return data"
   ]
  },
  {
   "cell_type": "code",
   "execution_count": null,
   "metadata": {},
   "outputs": [],
   "source": []
  }
 ],
 "metadata": {
  "kernelspec": {
   "display_name": "Python [conda env:py3]",
   "language": "python",
   "name": "conda-env-py3-py"
  },
  "language_info": {
   "codemirror_mode": {
    "name": "ipython",
    "version": 3
   },
   "file_extension": ".py",
   "mimetype": "text/x-python",
   "name": "python",
   "nbconvert_exporter": "python",
   "pygments_lexer": "ipython3",
   "version": "3.7.3"
  }
 },
 "nbformat": 4,
 "nbformat_minor": 2
}
