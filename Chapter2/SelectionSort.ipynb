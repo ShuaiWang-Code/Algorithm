{
 "cells": [
  {
   "cell_type": "code",
   "execution_count": 2,
   "metadata": {},
   "outputs": [],
   "source": [
    "def findsmall(arr):\n",
    "    small = arr[0]\n",
    "    small_index = 0\n",
    "    for i in range(1,len(arr)):\n",
    "        if arr[i] < small:\n",
    "            small = arr[i]\n",
    "            small_index = i\n",
    "    return small_index\n",
    "\n",
    "def selectsort(arr):\n",
    "    newArr = []\n",
    "    for i in range(len(arr)):\n",
    "        small_index = findsmall(arr)\n",
    "        newArr.append(arr.pop(small_index))\n",
    "    return newArr"
   ]
  },
  {
   "cell_type": "code",
   "execution_count": 3,
   "metadata": {},
   "outputs": [
    {
     "data": {
      "text/plain": [
       "[1, 2, 3, 5, 6, 7, 8, 9]"
      ]
     },
     "execution_count": 3,
     "metadata": {},
     "output_type": "execute_result"
    }
   ],
   "source": [
    "arr_test = [1,9,2,7,5,6,8,3]\n",
    "selectsort(arr_test)"
   ]
  },
  {
   "cell_type": "code",
   "execution_count": null,
   "metadata": {},
   "outputs": [],
   "source": []
  }
 ],
 "metadata": {
  "kernelspec": {
   "display_name": "Python [conda env:py3]",
   "language": "python",
   "name": "conda-env-py3-py"
  },
  "language_info": {
   "codemirror_mode": {
    "name": "ipython",
    "version": 3
   },
   "file_extension": ".py",
   "mimetype": "text/x-python",
   "name": "python",
   "nbconvert_exporter": "python",
   "pygments_lexer": "ipython3",
   "version": "3.7.3"
  }
 },
 "nbformat": 4,
 "nbformat_minor": 2
}
