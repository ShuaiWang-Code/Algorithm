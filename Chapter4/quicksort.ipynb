{
 "cells": [
  {
   "cell_type": "code",
   "execution_count": 9,
   "metadata": {},
   "outputs": [
    {
     "data": {
      "text/plain": [
       "5"
      ]
     },
     "execution_count": 9,
     "metadata": {},
     "output_type": "execute_result"
    }
   ],
   "source": [
    "def gcd(a,b):\n",
    "    while a != 0:\n",
    "        a,b = b % a, a\n",
    "    return b\n",
    "gcd(40,25)"
   ]
  },
  {
   "cell_type": "code",
   "execution_count": 14,
   "metadata": {},
   "outputs": [
    {
     "data": {
      "text/plain": [
       "8"
      ]
     },
     "execution_count": 14,
     "metadata": {},
     "output_type": "execute_result"
    }
   ],
   "source": [
    "def findmax(arr):\n",
    "    max = arr[0]\n",
    "    for i in range(1,len(arr)):\n",
    "        if max < arr[i]:\n",
    "            max = arr[i]\n",
    "    return max\n",
    "\n",
    "arr = [1,2,3,4,8,6,2,2]\n",
    "findmax(arr)"
   ]
  },
  {
   "cell_type": "code",
   "execution_count": 26,
   "metadata": {},
   "outputs": [
    {
     "data": {
      "text/plain": [
       "8"
      ]
     },
     "execution_count": 26,
     "metadata": {},
     "output_type": "execute_result"
    }
   ],
   "source": [
    "def findvalue(list):\n",
    "    if len(list) == 2:\n",
    "        return list[0] if list[0] > list[1] else list[1]\n",
    "    sub_max = findvalue(list[1:])\n",
    "    return list[0] if list[0] > sub_max else sub_max\n",
    "\n",
    "findvalue([1,8,3,4,5,4])"
   ]
  },
  {
   "cell_type": "code",
   "execution_count": 29,
   "metadata": {},
   "outputs": [
    {
     "data": {
      "text/plain": [
       "[1, 2, 2, 2, 2, 4, 4, 4, 5, 5, 5, 8, 8, 14, 21, 24, 25, 85, 87, 87]"
      ]
     },
     "execution_count": 29,
     "metadata": {},
     "output_type": "execute_result"
    }
   ],
   "source": [
    "def quicksort(list):\n",
    "    if len(list)<2:\n",
    "        return list\n",
    "    else:\n",
    "        root = list[0]\n",
    "        di   = [i for i in list[1:] if i <= root]\n",
    "        gao  = [i for i in list[1:] if i >  root]\n",
    "        return quicksort(di) + [root] + quicksort(gao)\n",
    "quicksort([4,5,87,4,8,2,4,85,2,1,87,25,24,8,21,5,2,14,5,2])"
   ]
  },
  {
   "cell_type": "code",
   "execution_count": 22,
   "metadata": {},
   "outputs": [
    {
     "data": {
      "text/plain": [
       "6"
      ]
     },
     "execution_count": 22,
     "metadata": {},
     "output_type": "execute_result"
    }
   ],
   "source": [
    "def sum1(list):\n",
    "    if list == []:\n",
    "        return 0\n",
    "    else:\n",
    "        return list[0] + sum1(list[1:])\n",
    "\n",
    "sum1([1,2,3])"
   ]
  },
  {
   "cell_type": "code",
   "execution_count": 23,
   "metadata": {},
   "outputs": [
    {
     "data": {
      "text/plain": [
       "3"
      ]
     },
     "execution_count": 23,
     "metadata": {},
     "output_type": "execute_result"
    }
   ],
   "source": [
    "def count(list):\n",
    "    if list == []:\n",
    "        return 0\n",
    "    else:\n",
    "        return 1 + count(list[1:])\n",
    "\n",
    "count([1,2,3])"
   ]
  },
  {
   "cell_type": "code",
   "execution_count": 30,
   "metadata": {},
   "outputs": [
    {
     "name": "stdout",
     "output_type": "stream",
     "text": [
      "归并排序\n"
     ]
    },
    {
     "data": {
      "text/plain": [
       "[0, 1, 2, 3, 4, 4, 5, 6, 7, 8, 9]"
      ]
     },
     "execution_count": 30,
     "metadata": {},
     "output_type": "execute_result"
    }
   ],
   "source": [
    "print(\"归并排序\")\n",
    "c=[7,9,1,0,4,3,8,2,5,4,6]\n",
    "#合并两列表\n",
    "def merge(a,b):#a,b是待合并的两个列表,两个列表分别都是有序的，合并后才会有序\n",
    "    merged = []\n",
    "    i,j=0,0\n",
    "    while i<len(a) and j<len(b):\n",
    "        if a[i]<=b[j]:\n",
    "            merged.append(a[i])\n",
    "            i+=1\n",
    "        else:\n",
    "            merged.append(b[j])\n",
    "            j+=1\n",
    "    merged.extend(a[i:])\n",
    "    merged.extend(b[j:])\n",
    "    return merged\n",
    "#递归操作\n",
    "def merge_sort(c):\n",
    "    if len(c)<=1:\n",
    "        return c\n",
    "    mid = len(c)//2#除法取整\n",
    "    a = merge_sort(c[:mid])\n",
    "    b = merge_sort(c[mid:])\n",
    "    return merge(a,b)\n",
    "\n",
    "merge_sort(c)"
   ]
  },
  {
   "cell_type": "code",
   "execution_count": null,
   "metadata": {},
   "outputs": [],
   "source": []
  }
 ],
 "metadata": {
  "kernelspec": {
   "display_name": "Python [conda env:py3]",
   "language": "python",
   "name": "conda-env-py3-py"
  },
  "language_info": {
   "codemirror_mode": {
    "name": "ipython",
    "version": 3
   },
   "file_extension": ".py",
   "mimetype": "text/x-python",
   "name": "python",
   "nbconvert_exporter": "python",
   "pygments_lexer": "ipython3",
   "version": "3.7.3"
  }
 },
 "nbformat": 4,
 "nbformat_minor": 2
}
